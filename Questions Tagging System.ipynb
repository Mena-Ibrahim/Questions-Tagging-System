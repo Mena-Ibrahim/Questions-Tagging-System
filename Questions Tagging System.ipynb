{
 "cells": [
  {
   "cell_type": "code",
   "execution_count": null,
   "metadata": {},
   "outputs": [],
   "source": [
    "import pandas as pd\n",
    "import numpy as np\n",
    "import matplotlib.pyplot as plt\n",
    "import warnings\n",
    "import time\n",
    "import re\n",
    "from bs4 import BeautifulSoup\n",
    "import nltk\n",
    "from nltk.tokenize import ToktokTokenizer\n",
    "import string\n",
    "from nltk.stem.wordnet import WordNetLemmatizer\n",
    "from nltk.corpus import stopwords\n",
    "from string import punctuation\n",
    "from nltk.tokenize import word_tokenize\n",
    "from nltk import pos_tag\n",
    "from sklearn.feature_extraction.text import TfidfVectorizer\n",
    "from sklearn.preprocessing import MultiLabelBinarizer\n",
    "from sklearn.model_selection import train_test_split\n",
    "from sklearn.naive_bayes import MultinomialNB\n",
    "from sklearn.linear_model import SGDClassifier\n",
    "from sklearn.linear_model import LogisticRegression\n",
    "from sklearn.multiclass import OneVsRestClassifier\n",
    "from sklearn.svm import LinearSVC\n",
    "from sklearn.linear_model import PassiveAggressiveClassifier\n",
    "from sklearn.neural_network import MLPClassifier\n",
    "from sklearn.metrics import hamming_loss, accuracy_score\n",
    "from scipy.sparse import hstack\n",
    "from sklearn.metrics import jaccard_score\n",
    "from sklearn.svm import SVC\n",
    "from sklearn import tree\n",
    "from sklearn.multioutput import MultiOutputClassifier\n",
    "from sklearn.multioutput import ClassifierChain\n",
    "from nltk.stem import PorterStemmer, SnowballStemmer\n",
    "import matplotlib.pyplot as plt\n",
    "import seaborn as sns\n",
    "import pickle\n",
    "import tensorflow as tf\n",
    "from sklearn.metrics import confusion_matrix, classification_report, multilabel_confusion_matrix"
   ]
  },
  {
   "attachments": {},
   "cell_type": "markdown",
   "metadata": {},
   "source": [
    "# Data Cleaning and Preparation"
   ]
  },
  {
   "cell_type": "code",
   "execution_count": null,
   "metadata": {},
   "outputs": [],
   "source": [
    "np.random.seed(seed=11)\n",
    "df_questions = pd.read_csv(\"Questions.csv\", encoding=\"ISO-8859-1\")\n",
    "df_tags = pd.read_csv(\"Tags.csv\", encoding=\"ISO-8859-1\")"
   ]
  },
  {
   "cell_type": "code",
   "execution_count": null,
   "metadata": {},
   "outputs": [
    {
     "data": {
      "text/html": [
       "<div>\n",
       "<style scoped>\n",
       "    .dataframe tbody tr th:only-of-type {\n",
       "        vertical-align: middle;\n",
       "    }\n",
       "\n",
       "    .dataframe tbody tr th {\n",
       "        vertical-align: top;\n",
       "    }\n",
       "\n",
       "    .dataframe thead th {\n",
       "        text-align: right;\n",
       "    }\n",
       "</style>\n",
       "<table border=\"1\" class=\"dataframe\">\n",
       "  <thead>\n",
       "    <tr style=\"text-align: right;\">\n",
       "      <th></th>\n",
       "      <th>Id</th>\n",
       "      <th>OwnerUserId</th>\n",
       "      <th>CreationDate</th>\n",
       "      <th>ClosedDate</th>\n",
       "      <th>Score</th>\n",
       "      <th>Title</th>\n",
       "      <th>Body</th>\n",
       "    </tr>\n",
       "  </thead>\n",
       "  <tbody>\n",
       "    <tr>\n",
       "      <th>0</th>\n",
       "      <td>80</td>\n",
       "      <td>26.0</td>\n",
       "      <td>2008-08-01T13:57:07Z</td>\n",
       "      <td>NaN</td>\n",
       "      <td>26</td>\n",
       "      <td>SQLStatement.execute() - multiple queries in o...</td>\n",
       "      <td>&lt;p&gt;I've written a database generation script i...</td>\n",
       "    </tr>\n",
       "    <tr>\n",
       "      <th>1</th>\n",
       "      <td>90</td>\n",
       "      <td>58.0</td>\n",
       "      <td>2008-08-01T14:41:24Z</td>\n",
       "      <td>2012-12-26T03:45:49Z</td>\n",
       "      <td>144</td>\n",
       "      <td>Good branching and merging tutorials for Torto...</td>\n",
       "      <td>&lt;p&gt;Are there any really good tutorials explain...</td>\n",
       "    </tr>\n",
       "    <tr>\n",
       "      <th>2</th>\n",
       "      <td>120</td>\n",
       "      <td>83.0</td>\n",
       "      <td>2008-08-01T15:50:08Z</td>\n",
       "      <td>NaN</td>\n",
       "      <td>21</td>\n",
       "      <td>ASP.NET Site Maps</td>\n",
       "      <td>&lt;p&gt;Has anyone got experience creating &lt;strong&gt;...</td>\n",
       "    </tr>\n",
       "    <tr>\n",
       "      <th>3</th>\n",
       "      <td>180</td>\n",
       "      <td>2089740.0</td>\n",
       "      <td>2008-08-01T18:42:19Z</td>\n",
       "      <td>NaN</td>\n",
       "      <td>53</td>\n",
       "      <td>Function for creating color wheels</td>\n",
       "      <td>&lt;p&gt;This is something I've pseudo-solved many t...</td>\n",
       "    </tr>\n",
       "    <tr>\n",
       "      <th>4</th>\n",
       "      <td>260</td>\n",
       "      <td>91.0</td>\n",
       "      <td>2008-08-01T23:22:08Z</td>\n",
       "      <td>NaN</td>\n",
       "      <td>49</td>\n",
       "      <td>Adding scripting functionality to .NET applica...</td>\n",
       "      <td>&lt;p&gt;I have a little game written in C#. It uses...</td>\n",
       "    </tr>\n",
       "  </tbody>\n",
       "</table>\n",
       "</div>"
      ],
      "text/plain": [
       "    Id  OwnerUserId          CreationDate            ClosedDate  Score  \\\n",
       "0   80         26.0  2008-08-01T13:57:07Z                   NaN     26   \n",
       "1   90         58.0  2008-08-01T14:41:24Z  2012-12-26T03:45:49Z    144   \n",
       "2  120         83.0  2008-08-01T15:50:08Z                   NaN     21   \n",
       "3  180    2089740.0  2008-08-01T18:42:19Z                   NaN     53   \n",
       "4  260         91.0  2008-08-01T23:22:08Z                   NaN     49   \n",
       "\n",
       "                                               Title  \\\n",
       "0  SQLStatement.execute() - multiple queries in o...   \n",
       "1  Good branching and merging tutorials for Torto...   \n",
       "2                                  ASP.NET Site Maps   \n",
       "3                 Function for creating color wheels   \n",
       "4  Adding scripting functionality to .NET applica...   \n",
       "\n",
       "                                                Body  \n",
       "0  <p>I've written a database generation script i...  \n",
       "1  <p>Are there any really good tutorials explain...  \n",
       "2  <p>Has anyone got experience creating <strong>...  \n",
       "3  <p>This is something I've pseudo-solved many t...  \n",
       "4  <p>I have a little game written in C#. It uses...  "
      ]
     },
     "execution_count": 153,
     "metadata": {},
     "output_type": "execute_result"
    }
   ],
   "source": [
    "df_questions.head()"
   ]
  },
  {
   "cell_type": "code",
   "execution_count": null,
   "metadata": {},
   "outputs": [],
   "source": [
    "# Drop useless columns\n",
    "df_questions.drop(columns=['OwnerUserId', 'CreationDate', 'ClosedDate'], inplace=True)"
   ]
  },
  {
   "cell_type": "code",
   "execution_count": null,
   "metadata": {},
   "outputs": [
    {
     "data": {
      "text/html": [
       "<div>\n",
       "<style scoped>\n",
       "    .dataframe tbody tr th:only-of-type {\n",
       "        vertical-align: middle;\n",
       "    }\n",
       "\n",
       "    .dataframe tbody tr th {\n",
       "        vertical-align: top;\n",
       "    }\n",
       "\n",
       "    .dataframe thead th {\n",
       "        text-align: right;\n",
       "    }\n",
       "</style>\n",
       "<table border=\"1\" class=\"dataframe\">\n",
       "  <thead>\n",
       "    <tr style=\"text-align: right;\">\n",
       "      <th></th>\n",
       "      <th>Id</th>\n",
       "      <th>Tag</th>\n",
       "    </tr>\n",
       "  </thead>\n",
       "  <tbody>\n",
       "    <tr>\n",
       "      <th>0</th>\n",
       "      <td>80</td>\n",
       "      <td>flex</td>\n",
       "    </tr>\n",
       "    <tr>\n",
       "      <th>1</th>\n",
       "      <td>80</td>\n",
       "      <td>actionscript-3</td>\n",
       "    </tr>\n",
       "    <tr>\n",
       "      <th>2</th>\n",
       "      <td>80</td>\n",
       "      <td>air</td>\n",
       "    </tr>\n",
       "    <tr>\n",
       "      <th>3</th>\n",
       "      <td>90</td>\n",
       "      <td>svn</td>\n",
       "    </tr>\n",
       "    <tr>\n",
       "      <th>4</th>\n",
       "      <td>90</td>\n",
       "      <td>tortoisesvn</td>\n",
       "    </tr>\n",
       "  </tbody>\n",
       "</table>\n",
       "</div>"
      ],
      "text/plain": [
       "   Id             Tag\n",
       "0  80            flex\n",
       "1  80  actionscript-3\n",
       "2  80             air\n",
       "3  90             svn\n",
       "4  90     tortoisesvn"
      ]
     },
     "execution_count": 155,
     "metadata": {},
     "output_type": "execute_result"
    }
   ],
   "source": [
    "df_tags.head()"
   ]
  },
  {
   "cell_type": "code",
   "execution_count": null,
   "metadata": {},
   "outputs": [
    {
     "name": "stdout",
     "output_type": "stream",
     "text": [
      "<class 'pandas.core.frame.DataFrame'>\n",
      "RangeIndex: 1264216 entries, 0 to 1264215\n",
      "Data columns (total 4 columns):\n",
      " #   Column  Non-Null Count    Dtype \n",
      "---  ------  --------------    ----- \n",
      " 0   Id      1264216 non-null  int64 \n",
      " 1   Score   1264216 non-null  int64 \n",
      " 2   Title   1264216 non-null  object\n",
      " 3   Body    1264216 non-null  object\n",
      "dtypes: int64(2), object(2)\n",
      "memory usage: 38.6+ MB\n"
     ]
    }
   ],
   "source": [
    "df_questions.info()"
   ]
  },
  {
   "cell_type": "code",
   "execution_count": null,
   "metadata": {},
   "outputs": [
    {
     "name": "stdout",
     "output_type": "stream",
     "text": [
      "<class 'pandas.core.frame.DataFrame'>\n",
      "RangeIndex: 3750994 entries, 0 to 3750993\n",
      "Data columns (total 2 columns):\n",
      " #   Column  Dtype \n",
      "---  ------  ----- \n",
      " 0   Id      int64 \n",
      " 1   Tag     object\n",
      "dtypes: int64(1), object(1)\n",
      "memory usage: 57.2+ MB\n"
     ]
    }
   ],
   "source": [
    "df_tags.info()"
   ]
  },
  {
   "cell_type": "code",
   "execution_count": null,
   "metadata": {},
   "outputs": [
    {
     "data": {
      "text/html": [
       "<div>\n",
       "<style scoped>\n",
       "    .dataframe tbody tr th:only-of-type {\n",
       "        vertical-align: middle;\n",
       "    }\n",
       "\n",
       "    .dataframe tbody tr th {\n",
       "        vertical-align: top;\n",
       "    }\n",
       "\n",
       "    .dataframe thead th {\n",
       "        text-align: right;\n",
       "    }\n",
       "</style>\n",
       "<table border=\"1\" class=\"dataframe\">\n",
       "  <thead>\n",
       "    <tr style=\"text-align: right;\">\n",
       "      <th></th>\n",
       "      <th>Id</th>\n",
       "      <th>Tag</th>\n",
       "    </tr>\n",
       "  </thead>\n",
       "  <tbody>\n",
       "    <tr>\n",
       "      <th>0</th>\n",
       "      <td>80</td>\n",
       "      <td>flex actionscript-3 air</td>\n",
       "    </tr>\n",
       "    <tr>\n",
       "      <th>1</th>\n",
       "      <td>90</td>\n",
       "      <td>svn tortoisesvn branch branching-and-merging</td>\n",
       "    </tr>\n",
       "    <tr>\n",
       "      <th>2</th>\n",
       "      <td>120</td>\n",
       "      <td>sql asp.net sitemap</td>\n",
       "    </tr>\n",
       "    <tr>\n",
       "      <th>3</th>\n",
       "      <td>180</td>\n",
       "      <td>algorithm language-agnostic colors color-space</td>\n",
       "    </tr>\n",
       "    <tr>\n",
       "      <th>4</th>\n",
       "      <td>260</td>\n",
       "      <td>c# .net scripting compiler-construction</td>\n",
       "    </tr>\n",
       "    <tr>\n",
       "      <th>...</th>\n",
       "      <td>...</td>\n",
       "      <td>...</td>\n",
       "    </tr>\n",
       "    <tr>\n",
       "      <th>1264211</th>\n",
       "      <td>40143210</td>\n",
       "      <td>php .htaccess</td>\n",
       "    </tr>\n",
       "    <tr>\n",
       "      <th>1264212</th>\n",
       "      <td>40143300</td>\n",
       "      <td>google-bigquery</td>\n",
       "    </tr>\n",
       "    <tr>\n",
       "      <th>1264213</th>\n",
       "      <td>40143340</td>\n",
       "      <td>android android-studio</td>\n",
       "    </tr>\n",
       "    <tr>\n",
       "      <th>1264214</th>\n",
       "      <td>40143360</td>\n",
       "      <td>javascript vue.js</td>\n",
       "    </tr>\n",
       "    <tr>\n",
       "      <th>1264215</th>\n",
       "      <td>40143380</td>\n",
       "      <td>npm mocha babel</td>\n",
       "    </tr>\n",
       "  </tbody>\n",
       "</table>\n",
       "<p>1264216 rows × 2 columns</p>\n",
       "</div>"
      ],
      "text/plain": [
       "               Id                                             Tag\n",
       "0              80                         flex actionscript-3 air\n",
       "1              90    svn tortoisesvn branch branching-and-merging\n",
       "2             120                             sql asp.net sitemap\n",
       "3             180  algorithm language-agnostic colors color-space\n",
       "4             260         c# .net scripting compiler-construction\n",
       "...           ...                                             ...\n",
       "1264211  40143210                                   php .htaccess\n",
       "1264212  40143300                                 google-bigquery\n",
       "1264213  40143340                          android android-studio\n",
       "1264214  40143360                               javascript vue.js\n",
       "1264215  40143380                                 npm mocha babel\n",
       "\n",
       "[1264216 rows x 2 columns]"
      ]
     },
     "execution_count": 158,
     "metadata": {},
     "output_type": "execute_result"
    }
   ],
   "source": [
    "# Grouping the tags by id:\n",
    "df_tags['Tag'] = df_tags['Tag'].astype(str)\n",
    "grouped_tags = df_tags.groupby(\"Id\")['Tag'].apply(lambda x: ' '.join(x))\n",
    "grouped_tags.reset_index()\n"
   ]
  },
  {
   "cell_type": "code",
   "execution_count": null,
   "metadata": {},
   "outputs": [
    {
     "data": {
      "text/html": [
       "<div>\n",
       "<style scoped>\n",
       "    .dataframe tbody tr th:only-of-type {\n",
       "        vertical-align: middle;\n",
       "    }\n",
       "\n",
       "    .dataframe tbody tr th {\n",
       "        vertical-align: top;\n",
       "    }\n",
       "\n",
       "    .dataframe thead th {\n",
       "        text-align: right;\n",
       "    }\n",
       "</style>\n",
       "<table border=\"1\" class=\"dataframe\">\n",
       "  <thead>\n",
       "    <tr style=\"text-align: right;\">\n",
       "      <th></th>\n",
       "      <th>Id</th>\n",
       "      <th>Tags</th>\n",
       "    </tr>\n",
       "  </thead>\n",
       "  <tbody>\n",
       "    <tr>\n",
       "      <th>0</th>\n",
       "      <td>80</td>\n",
       "      <td>flex actionscript-3 air</td>\n",
       "    </tr>\n",
       "    <tr>\n",
       "      <th>1</th>\n",
       "      <td>90</td>\n",
       "      <td>svn tortoisesvn branch branching-and-merging</td>\n",
       "    </tr>\n",
       "    <tr>\n",
       "      <th>2</th>\n",
       "      <td>120</td>\n",
       "      <td>sql asp.net sitemap</td>\n",
       "    </tr>\n",
       "    <tr>\n",
       "      <th>3</th>\n",
       "      <td>180</td>\n",
       "      <td>algorithm language-agnostic colors color-space</td>\n",
       "    </tr>\n",
       "    <tr>\n",
       "      <th>4</th>\n",
       "      <td>260</td>\n",
       "      <td>c# .net scripting compiler-construction</td>\n",
       "    </tr>\n",
       "  </tbody>\n",
       "</table>\n",
       "</div>"
      ],
      "text/plain": [
       "    Id                                            Tags\n",
       "0   80                         flex actionscript-3 air\n",
       "1   90    svn tortoisesvn branch branching-and-merging\n",
       "2  120                             sql asp.net sitemap\n",
       "3  180  algorithm language-agnostic colors color-space\n",
       "4  260         c# .net scripting compiler-construction"
      ]
     },
     "execution_count": 159,
     "metadata": {},
     "output_type": "execute_result"
    }
   ],
   "source": [
    "grouped_tags_final = pd.DataFrame({'Id':grouped_tags.index, 'Tags':grouped_tags.values})\n",
    "grouped_tags_final.head()"
   ]
  },
  {
   "cell_type": "code",
   "execution_count": null,
   "metadata": {},
   "outputs": [
    {
     "data": {
      "text/html": [
       "<div>\n",
       "<style scoped>\n",
       "    .dataframe tbody tr th:only-of-type {\n",
       "        vertical-align: middle;\n",
       "    }\n",
       "\n",
       "    .dataframe tbody tr th {\n",
       "        vertical-align: top;\n",
       "    }\n",
       "\n",
       "    .dataframe thead th {\n",
       "        text-align: right;\n",
       "    }\n",
       "</style>\n",
       "<table border=\"1\" class=\"dataframe\">\n",
       "  <thead>\n",
       "    <tr style=\"text-align: right;\">\n",
       "      <th></th>\n",
       "      <th>Id</th>\n",
       "      <th>Score</th>\n",
       "      <th>Title</th>\n",
       "      <th>Body</th>\n",
       "      <th>Tags</th>\n",
       "    </tr>\n",
       "  </thead>\n",
       "  <tbody>\n",
       "    <tr>\n",
       "      <th>0</th>\n",
       "      <td>80</td>\n",
       "      <td>26</td>\n",
       "      <td>SQLStatement.execute() - multiple queries in o...</td>\n",
       "      <td>&lt;p&gt;I've written a database generation script i...</td>\n",
       "      <td>flex actionscript-3 air</td>\n",
       "    </tr>\n",
       "    <tr>\n",
       "      <th>1</th>\n",
       "      <td>90</td>\n",
       "      <td>144</td>\n",
       "      <td>Good branching and merging tutorials for Torto...</td>\n",
       "      <td>&lt;p&gt;Are there any really good tutorials explain...</td>\n",
       "      <td>svn tortoisesvn branch branching-and-merging</td>\n",
       "    </tr>\n",
       "    <tr>\n",
       "      <th>2</th>\n",
       "      <td>120</td>\n",
       "      <td>21</td>\n",
       "      <td>ASP.NET Site Maps</td>\n",
       "      <td>&lt;p&gt;Has anyone got experience creating &lt;strong&gt;...</td>\n",
       "      <td>sql asp.net sitemap</td>\n",
       "    </tr>\n",
       "    <tr>\n",
       "      <th>3</th>\n",
       "      <td>180</td>\n",
       "      <td>53</td>\n",
       "      <td>Function for creating color wheels</td>\n",
       "      <td>&lt;p&gt;This is something I've pseudo-solved many t...</td>\n",
       "      <td>algorithm language-agnostic colors color-space</td>\n",
       "    </tr>\n",
       "    <tr>\n",
       "      <th>4</th>\n",
       "      <td>260</td>\n",
       "      <td>49</td>\n",
       "      <td>Adding scripting functionality to .NET applica...</td>\n",
       "      <td>&lt;p&gt;I have a little game written in C#. It uses...</td>\n",
       "      <td>c# .net scripting compiler-construction</td>\n",
       "    </tr>\n",
       "  </tbody>\n",
       "</table>\n",
       "</div>"
      ],
      "text/plain": [
       "    Id  Score                                              Title  \\\n",
       "0   80     26  SQLStatement.execute() - multiple queries in o...   \n",
       "1   90    144  Good branching and merging tutorials for Torto...   \n",
       "2  120     21                                  ASP.NET Site Maps   \n",
       "3  180     53                 Function for creating color wheels   \n",
       "4  260     49  Adding scripting functionality to .NET applica...   \n",
       "\n",
       "                                                Body  \\\n",
       "0  <p>I've written a database generation script i...   \n",
       "1  <p>Are there any really good tutorials explain...   \n",
       "2  <p>Has anyone got experience creating <strong>...   \n",
       "3  <p>This is something I've pseudo-solved many t...   \n",
       "4  <p>I have a little game written in C#. It uses...   \n",
       "\n",
       "                                             Tags  \n",
       "0                         flex actionscript-3 air  \n",
       "1    svn tortoisesvn branch branching-and-merging  \n",
       "2                             sql asp.net sitemap  \n",
       "3  algorithm language-agnostic colors color-space  \n",
       "4         c# .net scripting compiler-construction  "
      ]
     },
     "execution_count": 160,
     "metadata": {},
     "output_type": "execute_result"
    }
   ],
   "source": [
    "# Finally mapping the tags to the questions by id:\n",
    "df = df_questions.merge(grouped_tags_final, on = \"Id\")\n",
    "df.head()"
   ]
  },
  {
   "cell_type": "code",
   "execution_count": null,
   "metadata": {},
   "outputs": [
    {
     "name": "stdout",
     "output_type": "stream",
     "text": [
      "Mean Score   : 1.781537332228037\n",
      "Minimum Score: -73\n",
      "Maximum Score: 5190\n"
     ]
    }
   ],
   "source": [
    "# Filter by score with a threshold of 5\n",
    "print(f\"Mean Score   : {df['Score'].mean()}\")\n",
    "print(f\"Minimum Score: {df['Score'].min()}\")\n",
    "print(f\"Maximum Score: {df['Score'].max()}\")\n",
    "df = df[df['Score'] > 5]"
   ]
  },
  {
   "cell_type": "code",
   "execution_count": null,
   "metadata": {},
   "outputs": [
    {
     "data": {
      "text/html": [
       "<div>\n",
       "<style scoped>\n",
       "    .dataframe tbody tr th:only-of-type {\n",
       "        vertical-align: middle;\n",
       "    }\n",
       "\n",
       "    .dataframe tbody tr th {\n",
       "        vertical-align: top;\n",
       "    }\n",
       "\n",
       "    .dataframe thead th {\n",
       "        text-align: right;\n",
       "    }\n",
       "</style>\n",
       "<table border=\"1\" class=\"dataframe\">\n",
       "  <thead>\n",
       "    <tr style=\"text-align: right;\">\n",
       "      <th></th>\n",
       "      <th>Id</th>\n",
       "      <th>Score</th>\n",
       "      <th>Title</th>\n",
       "      <th>Body</th>\n",
       "      <th>Tags</th>\n",
       "    </tr>\n",
       "  </thead>\n",
       "  <tbody>\n",
       "    <tr>\n",
       "      <th>0</th>\n",
       "      <td>80</td>\n",
       "      <td>26</td>\n",
       "      <td>SQLStatement.execute() - multiple queries in o...</td>\n",
       "      <td>&lt;p&gt;I've written a database generation script i...</td>\n",
       "      <td>flex actionscript-3 air</td>\n",
       "    </tr>\n",
       "    <tr>\n",
       "      <th>1</th>\n",
       "      <td>90</td>\n",
       "      <td>144</td>\n",
       "      <td>Good branching and merging tutorials for Torto...</td>\n",
       "      <td>&lt;p&gt;Are there any really good tutorials explain...</td>\n",
       "      <td>svn tortoisesvn branch branching-and-merging</td>\n",
       "    </tr>\n",
       "    <tr>\n",
       "      <th>2</th>\n",
       "      <td>120</td>\n",
       "      <td>21</td>\n",
       "      <td>ASP.NET Site Maps</td>\n",
       "      <td>&lt;p&gt;Has anyone got experience creating &lt;strong&gt;...</td>\n",
       "      <td>sql asp.net sitemap</td>\n",
       "    </tr>\n",
       "    <tr>\n",
       "      <th>3</th>\n",
       "      <td>180</td>\n",
       "      <td>53</td>\n",
       "      <td>Function for creating color wheels</td>\n",
       "      <td>&lt;p&gt;This is something I've pseudo-solved many t...</td>\n",
       "      <td>algorithm language-agnostic colors color-space</td>\n",
       "    </tr>\n",
       "    <tr>\n",
       "      <th>4</th>\n",
       "      <td>260</td>\n",
       "      <td>49</td>\n",
       "      <td>Adding scripting functionality to .NET applica...</td>\n",
       "      <td>&lt;p&gt;I have a little game written in C#. It uses...</td>\n",
       "      <td>c# .net scripting compiler-construction</td>\n",
       "    </tr>\n",
       "  </tbody>\n",
       "</table>\n",
       "</div>"
      ],
      "text/plain": [
       "    Id  Score                                              Title  \\\n",
       "0   80     26  SQLStatement.execute() - multiple queries in o...   \n",
       "1   90    144  Good branching and merging tutorials for Torto...   \n",
       "2  120     21                                  ASP.NET Site Maps   \n",
       "3  180     53                 Function for creating color wheels   \n",
       "4  260     49  Adding scripting functionality to .NET applica...   \n",
       "\n",
       "                                                Body  \\\n",
       "0  <p>I've written a database generation script i...   \n",
       "1  <p>Are there any really good tutorials explain...   \n",
       "2  <p>Has anyone got experience creating <strong>...   \n",
       "3  <p>This is something I've pseudo-solved many t...   \n",
       "4  <p>I have a little game written in C#. It uses...   \n",
       "\n",
       "                                             Tags  \n",
       "0                         flex actionscript-3 air  \n",
       "1    svn tortoisesvn branch branching-and-merging  \n",
       "2                             sql asp.net sitemap  \n",
       "3  algorithm language-agnostic colors color-space  \n",
       "4         c# .net scripting compiler-construction  "
      ]
     },
     "execution_count": 162,
     "metadata": {},
     "output_type": "execute_result"
    }
   ],
   "source": [
    "df.head()"
   ]
  },
  {
   "cell_type": "code",
   "execution_count": null,
   "metadata": {},
   "outputs": [
    {
     "data": {
      "text/html": [
       "<div>\n",
       "<style scoped>\n",
       "    .dataframe tbody tr th:only-of-type {\n",
       "        vertical-align: middle;\n",
       "    }\n",
       "\n",
       "    .dataframe tbody tr th {\n",
       "        vertical-align: top;\n",
       "    }\n",
       "\n",
       "    .dataframe thead th {\n",
       "        text-align: right;\n",
       "    }\n",
       "</style>\n",
       "<table border=\"1\" class=\"dataframe\">\n",
       "  <thead>\n",
       "    <tr style=\"text-align: right;\">\n",
       "      <th></th>\n",
       "      <th>Title</th>\n",
       "      <th>Body</th>\n",
       "      <th>Tags</th>\n",
       "    </tr>\n",
       "  </thead>\n",
       "  <tbody>\n",
       "    <tr>\n",
       "      <th>0</th>\n",
       "      <td>SQLStatement.execute() - multiple queries in o...</td>\n",
       "      <td>&lt;p&gt;I've written a database generation script i...</td>\n",
       "      <td>flex actionscript-3 air</td>\n",
       "    </tr>\n",
       "    <tr>\n",
       "      <th>1</th>\n",
       "      <td>Good branching and merging tutorials for Torto...</td>\n",
       "      <td>&lt;p&gt;Are there any really good tutorials explain...</td>\n",
       "      <td>svn tortoisesvn branch branching-and-merging</td>\n",
       "    </tr>\n",
       "    <tr>\n",
       "      <th>2</th>\n",
       "      <td>ASP.NET Site Maps</td>\n",
       "      <td>&lt;p&gt;Has anyone got experience creating &lt;strong&gt;...</td>\n",
       "      <td>sql asp.net sitemap</td>\n",
       "    </tr>\n",
       "    <tr>\n",
       "      <th>3</th>\n",
       "      <td>Function for creating color wheels</td>\n",
       "      <td>&lt;p&gt;This is something I've pseudo-solved many t...</td>\n",
       "      <td>algorithm language-agnostic colors color-space</td>\n",
       "    </tr>\n",
       "    <tr>\n",
       "      <th>4</th>\n",
       "      <td>Adding scripting functionality to .NET applica...</td>\n",
       "      <td>&lt;p&gt;I have a little game written in C#. It uses...</td>\n",
       "      <td>c# .net scripting compiler-construction</td>\n",
       "    </tr>\n",
       "  </tbody>\n",
       "</table>\n",
       "</div>"
      ],
      "text/plain": [
       "                                               Title  \\\n",
       "0  SQLStatement.execute() - multiple queries in o...   \n",
       "1  Good branching and merging tutorials for Torto...   \n",
       "2                                  ASP.NET Site Maps   \n",
       "3                 Function for creating color wheels   \n",
       "4  Adding scripting functionality to .NET applica...   \n",
       "\n",
       "                                                Body  \\\n",
       "0  <p>I've written a database generation script i...   \n",
       "1  <p>Are there any really good tutorials explain...   \n",
       "2  <p>Has anyone got experience creating <strong>...   \n",
       "3  <p>This is something I've pseudo-solved many t...   \n",
       "4  <p>I have a little game written in C#. It uses...   \n",
       "\n",
       "                                             Tags  \n",
       "0                         flex actionscript-3 air  \n",
       "1    svn tortoisesvn branch branching-and-merging  \n",
       "2                             sql asp.net sitemap  \n",
       "3  algorithm language-agnostic colors color-space  \n",
       "4         c# .net scripting compiler-construction  "
      ]
     },
     "execution_count": 163,
     "metadata": {},
     "output_type": "execute_result"
    }
   ],
   "source": [
    "# Removing columns that are no longer required:\n",
    "df.drop(columns= ['Id', 'Score'], inplace=True)\n",
    "df.drop_duplicates(inplace = True)\n",
    "\n",
    "df.head()"
   ]
  },
  {
   "cell_type": "code",
   "execution_count": null,
   "metadata": {},
   "outputs": [
    {
     "name": "stdout",
     "output_type": "stream",
     "text": [
      "224129\n",
      "14883\n"
     ]
    }
   ],
   "source": [
    "# Getting unique tags:\n",
    "df['Tags'] = df['Tags'].apply(lambda x: x.split())\n",
    "\n",
    "# All tags\n",
    "all_tags = [item for sublist in df['Tags'].values for item in sublist]\n",
    "print(len(all_tags))\n",
    "\n",
    "# Unique Tags\n",
    "unique_tags = list(set(all_tags))\n",
    "print(len(unique_tags))"
   ]
  },
  {
   "cell_type": "code",
   "execution_count": null,
   "metadata": {},
   "outputs": [
    {
     "name": "stdout",
     "output_type": "stream",
     "text": [
      "100\n"
     ]
    },
    {
     "data": {
      "text/plain": [
       "['c#',\n",
       " 'java',\n",
       " 'javascript',\n",
       " 'android',\n",
       " 'python',\n",
       " 'c++',\n",
       " 'php',\n",
       " 'jquery',\n",
       " '.net',\n",
       " 'ios',\n",
       " 'html',\n",
       " 'css',\n",
       " 'c',\n",
       " 'iphone',\n",
       " 'objective-c',\n",
       " 'ruby-on-rails',\n",
       " 'sql',\n",
       " 'asp.net',\n",
       " 'mysql',\n",
       " 'ruby',\n",
       " 'r',\n",
       " 'git',\n",
       " 'asp.net-mvc',\n",
       " 'linux',\n",
       " 'sql-server',\n",
       " 'node.js',\n",
       " 'angularjs',\n",
       " 'django',\n",
       " 'performance',\n",
       " 'algorithm',\n",
       " 'string',\n",
       " 'xcode',\n",
       " 'arrays',\n",
       " 'wpf',\n",
       " 'eclipse',\n",
       " 'haskell',\n",
       " 'windows',\n",
       " 'scala',\n",
       " 'multithreading',\n",
       " 'json',\n",
       " 'c++11',\n",
       " 'regex',\n",
       " 'visual-studio',\n",
       " 'html5',\n",
       " 'osx',\n",
       " 'swift',\n",
       " 'database',\n",
       " 'unit-testing',\n",
       " 'spring',\n",
       " 'xml',\n",
       " 'bash',\n",
       " 'ajax',\n",
       " 'delphi',\n",
       " 'cocoa-touch',\n",
       " 'ruby-on-rails-3',\n",
       " 'visual-studio-2010',\n",
       " 'linq',\n",
       " 'debugging',\n",
       " 'generics',\n",
       " 'perl',\n",
       " 'entity-framework',\n",
       " 'mongodb',\n",
       " 'winforms',\n",
       " 'cocoa',\n",
       " 'security',\n",
       " 'postgresql',\n",
       " 'css3',\n",
       " 'templates',\n",
       " 'twitter-bootstrap',\n",
       " 'shell',\n",
       " 'list',\n",
       " 'google-chrome',\n",
       " 'vim',\n",
       " 'oop',\n",
       " 'image',\n",
       " 'hibernate',\n",
       " 'gcc',\n",
       " 'asp.net-mvc-3',\n",
       " 'facebook',\n",
       " 'oracle',\n",
       " 'rest',\n",
       " 'maven',\n",
       " 'http',\n",
       " 'exception',\n",
       " 'tsql',\n",
       " 'math',\n",
       " 'numpy',\n",
       " 'svn',\n",
       " 'qt',\n",
       " 'ipad',\n",
       " 'function',\n",
       " 'datetime',\n",
       " 'wcf',\n",
       " 'emacs',\n",
       " 'design-patterns',\n",
       " 'github',\n",
       " 'class',\n",
       " 'api',\n",
       " 'optimization',\n",
       " 'swing']"
      ]
     },
     "execution_count": 165,
     "metadata": {},
     "output_type": "execute_result"
    }
   ],
   "source": [
    "keywords = nltk.FreqDist(all_tags)\n",
    "frequencies_words = keywords.most_common(100)\n",
    "tags_features = [word[0] for word in frequencies_words]\n",
    "print(len(tags_features))\n",
    "tags_features"
   ]
  },
  {
   "cell_type": "code",
   "execution_count": null,
   "metadata": {},
   "outputs": [],
   "source": [
    "# Function to filter most common tags\n",
    "def most_common(tags):\n",
    "    tags_filtered = []\n",
    "    for i in range(0, len(tags)):\n",
    "        if tags[i] in tags_features:\n",
    "            tags_filtered.append(tags[i])\n",
    "    return tags_filtered"
   ]
  },
  {
   "cell_type": "code",
   "execution_count": null,
   "metadata": {},
   "outputs": [],
   "source": [
    "# Apply filter and fill empty cells with none:\n",
    "df['Tags'] = df['Tags'].apply(lambda x: most_common(x))\n",
    "df['Tags'] = df['Tags'].apply(lambda x: x if len(x)>0 else None)\n"
   ]
  },
  {
   "cell_type": "code",
   "execution_count": null,
   "metadata": {},
   "outputs": [
    {
     "data": {
      "text/plain": [
       "(72950, 3)"
      ]
     },
     "execution_count": 168,
     "metadata": {},
     "output_type": "execute_result"
    }
   ],
   "source": [
    "df.shape"
   ]
  },
  {
   "cell_type": "code",
   "execution_count": null,
   "metadata": {},
   "outputs": [
    {
     "data": {
      "text/plain": [
       "(63167, 3)"
      ]
     },
     "execution_count": 169,
     "metadata": {},
     "output_type": "execute_result"
    }
   ],
   "source": [
    "# Drop records with no tags after filteration:\n",
    "df.dropna(subset=['Tags'], inplace=True)\n",
    "df.shape"
   ]
  },
  {
   "cell_type": "code",
   "execution_count": null,
   "metadata": {},
   "outputs": [
    {
     "data": {
      "text/html": [
       "<div>\n",
       "<style scoped>\n",
       "    .dataframe tbody tr th:only-of-type {\n",
       "        vertical-align: middle;\n",
       "    }\n",
       "\n",
       "    .dataframe tbody tr th {\n",
       "        vertical-align: top;\n",
       "    }\n",
       "\n",
       "    .dataframe thead th {\n",
       "        text-align: right;\n",
       "    }\n",
       "</style>\n",
       "<table border=\"1\" class=\"dataframe\">\n",
       "  <thead>\n",
       "    <tr style=\"text-align: right;\">\n",
       "      <th></th>\n",
       "      <th>Title</th>\n",
       "      <th>Body</th>\n",
       "      <th>Tags</th>\n",
       "    </tr>\n",
       "  </thead>\n",
       "  <tbody>\n",
       "    <tr>\n",
       "      <th>1</th>\n",
       "      <td>Good branching and merging tutorials for Torto...</td>\n",
       "      <td>Are there any really good tutorials explaining...</td>\n",
       "      <td>[svn]</td>\n",
       "    </tr>\n",
       "    <tr>\n",
       "      <th>2</th>\n",
       "      <td>ASP.NET Site Maps</td>\n",
       "      <td>Has anyone got experience creating SQL-based A...</td>\n",
       "      <td>[sql, asp.net]</td>\n",
       "    </tr>\n",
       "    <tr>\n",
       "      <th>3</th>\n",
       "      <td>Function for creating color wheels</td>\n",
       "      <td>This is something I've pseudo-solved many time...</td>\n",
       "      <td>[algorithm]</td>\n",
       "    </tr>\n",
       "    <tr>\n",
       "      <th>4</th>\n",
       "      <td>Adding scripting functionality to .NET applica...</td>\n",
       "      <td>I have a little game written in C#. It uses a ...</td>\n",
       "      <td>[c#, .net]</td>\n",
       "    </tr>\n",
       "    <tr>\n",
       "      <th>5</th>\n",
       "      <td>Should I use nested classes in this case?</td>\n",
       "      <td>I am working on a collection of classes used f...</td>\n",
       "      <td>[c++, oop, class]</td>\n",
       "    </tr>\n",
       "  </tbody>\n",
       "</table>\n",
       "</div>"
      ],
      "text/plain": [
       "                                               Title  \\\n",
       "1  Good branching and merging tutorials for Torto...   \n",
       "2                                  ASP.NET Site Maps   \n",
       "3                 Function for creating color wheels   \n",
       "4  Adding scripting functionality to .NET applica...   \n",
       "5          Should I use nested classes in this case?   \n",
       "\n",
       "                                                Body               Tags  \n",
       "1  Are there any really good tutorials explaining...              [svn]  \n",
       "2  Has anyone got experience creating SQL-based A...     [sql, asp.net]  \n",
       "3  This is something I've pseudo-solved many time...        [algorithm]  \n",
       "4  I have a little game written in C#. It uses a ...         [c#, .net]  \n",
       "5  I am working on a collection of classes used f...  [c++, oop, class]  "
      ]
     },
     "execution_count": 170,
     "metadata": {},
     "output_type": "execute_result"
    }
   ],
   "source": [
    "# Get Text and remove HTML tags:\n",
    "df['Body'] = df['Body'].apply(lambda x: BeautifulSoup(x).get_text())\n",
    "df.head()"
   ]
  },
  {
   "cell_type": "code",
   "execution_count": null,
   "metadata": {},
   "outputs": [],
   "source": [
    "df.to_csv('TaggedQuestions.csv')"
   ]
  },
  {
   "attachments": {},
   "cell_type": "markdown",
   "metadata": {},
   "source": [
    "# NLP Preprocessing"
   ]
  },
  {
   "cell_type": "code",
   "execution_count": null,
   "metadata": {},
   "outputs": [],
   "source": [
    "def stem_tokens(tokens, usePOS: bool = False, stemmer = PorterStemmer()):\n",
    "    stemmed_tokens = []\n",
    "    if usePOS:\n",
    "        # Tag tokens with POS\n",
    "        tagged_tokens = pos_tag(tokens)\n",
    "\n",
    "        # Perform stemming based on POS (You can remove POS and use normal stemming to make it less computationally expensive)\n",
    "        \n",
    "        for token, pos in tagged_tokens:\n",
    "            if pos.startswith('NN'):  # noun\n",
    "                stemmed_token = stemmer.stem(token)\n",
    "            elif pos.startswith('VB'):  # verb\n",
    "                stemmed_token = stemmer.stem(token)\n",
    "            elif pos.startswith('JJ'):  # adjective\n",
    "                stemmed_token = stemmer.stem(token)\n",
    "            else:\n",
    "                stemmed_token = stemmer.stem(token)\n",
    "            stemmed_tokens.append(stemmed_token)\n",
    "    else:\n",
    "        stemmed_tokens = [stemmer.stem(token) for token in tokens]\n",
    "    \n",
    "    return stemmed_tokens"
   ]
  },
  {
   "cell_type": "code",
   "execution_count": null,
   "metadata": {},
   "outputs": [],
   "source": [
    "def lemmatize_tokens(tokens, usePOS: bool = False, lemmatizer = WordNetLemmatizer()):\n",
    "    lemmatized_tokens = []\n",
    "    \n",
    "    if usePOS:\n",
    "        # Tag tokens with POS\n",
    "        tagged_tokens = pos_tag(tokens)\n",
    "\n",
    "        # Lemmatize tokens based on POS (You can remove POS and use normal lemmatization to make it less computationally expensive)\n",
    "        \n",
    "        for token, pos in tagged_tokens:\n",
    "            if pos.startswith('NN'):  # noun\n",
    "                lemmatized_token = lemmatizer.lemmatize(token, pos='n')\n",
    "            elif pos.startswith('VB'):  # verb\n",
    "                lemmatized_token = lemmatizer.lemmatize(token, pos='v')\n",
    "            elif pos.startswith('JJ'):  # adjective\n",
    "                lemmatized_token = lemmatizer.lemmatize(token, pos='a')\n",
    "            else:\n",
    "                lemmatized_token = lemmatizer.lemmatize(token)\n",
    "            lemmatized_tokens.append(lemmatized_token)\n",
    "    else:\n",
    "        lemmatized_tokens = [lemmatizer.lemmatize(token) for token in tokens]\n",
    "    \n",
    "    return lemmatized_tokens"
   ]
  },
  {
   "cell_type": "code",
   "execution_count": null,
   "metadata": {},
   "outputs": [],
   "source": [
    "def nlp_pipeline(text, tokenizer=ToktokTokenizer()):\n",
    "    # Prepare stop words\n",
    "    stop_words = set(stopwords.words('english'))\n",
    "\n",
    "    # Remove punctuation\n",
    "    text = text.translate(str.maketrans('', '', string.punctuation))\n",
    "\n",
    "    # Tokenize text\n",
    "    tokens = word_tokenize(text.lower())\n",
    "\n",
    "    # Remove stop words\n",
    "    filtered_tokens = [token for token in tokens if token not in stop_words]\n",
    "\n",
    "    # Stem / Lemmatize\n",
    "    filtered_tokens = stem_tokens(filtered_tokens)\n",
    "\n",
    "    # Rejoin tokens into a string\n",
    "    return ' '.join(filtered_tokens)"
   ]
  },
  {
   "cell_type": "code",
   "execution_count": null,
   "metadata": {},
   "outputs": [],
   "source": [
    "# Apply pipeline to the two text columns:\n",
    "\n",
    "df['Body'] = df['Body'].apply(nlp_pipeline)\n",
    "df['Title'] = df['Title'].apply(nlp_pipeline)\n",
    "df.head()\n",
    "df.to_csv('Preprocessed.csv')"
   ]
  },
  {
   "attachments": {},
   "cell_type": "markdown",
   "metadata": {},
   "source": [
    "# Model Creation, Evaluation and Visualization"
   ]
  },
  {
   "cell_type": "code",
   "execution_count": null,
   "metadata": {},
   "outputs": [],
   "source": [
    "# Extracting features and target variable:\n",
    "X1 = df['Body']\n",
    "X2 = df['Title']\n",
    "y = df['Tags']"
   ]
  },
  {
   "cell_type": "code",
   "execution_count": null,
   "metadata": {},
   "outputs": [],
   "source": [
    "# Putting tags in numerical form:\n",
    "multilabel_binarizer = MultiLabelBinarizer()\n",
    "y_bin = multilabel_binarizer.fit_transform(y)\n",
    "# Save using pickle\n",
    "with open(\"multilabel_binarizer.pkl\", 'wb') as f:\n",
    "    pickle.dump(multilabel_binarizer, f)"
   ]
  },
  {
   "cell_type": "code",
   "execution_count": null,
   "metadata": {},
   "outputs": [],
   "source": [
    "# Feature extraction on body and title fields using TFIDF:\n",
    "vectorizer_X1 = TfidfVectorizer()\n",
    "\n",
    "vectorizer_X2 = TfidfVectorizer()"
   ]
  },
  {
   "cell_type": "code",
   "execution_count": null,
   "metadata": {},
   "outputs": [],
   "source": [
    "# Vectorize fields:\n",
    "X1_tfidf = vectorizer_X1.fit_transform(X1)\n",
    "X2_tfidf = vectorizer_X2.fit_transform(X2)\n",
    "\n",
    "# Save using pickle\n",
    "with open(\"vectorizer_X1.pkl\", 'wb') as f:\n",
    "    pickle.dump(X1_tfidf, f)\n",
    "\n",
    "with open(\"vectorizer_X2.pkl\", 'wb') as f:\n",
    "    pickle.dump(X2_tfidf, f)"
   ]
  },
  {
   "cell_type": "code",
   "execution_count": null,
   "metadata": {},
   "outputs": [],
   "source": [
    "# Combine into one:\n",
    "X_tfidf = hstack([X1_tfidf,X2_tfidf])"
   ]
  },
  {
   "cell_type": "code",
   "execution_count": null,
   "metadata": {},
   "outputs": [],
   "source": [
    "X_train, X_test, y_train, y_test = train_test_split(X_tfidf, y_bin, test_size = 0.2, random_state = 41) # 80% - 20% train test split"
   ]
  },
  {
   "cell_type": "code",
   "execution_count": null,
   "metadata": {},
   "outputs": [],
   "source": [
    "# Prints Accuracy, Hamming loss and Jaccard score:\n",
    "def evaluate_model(y_pred, model_name):\n",
    "    hl = hamming_loss(y_test, y_pred)\n",
    "    acc = accuracy_score(y_test, y_pred)\n",
    "    score = jaccard_score(y_test, y_pred, average='weighted')\n",
    "\n",
    "    print(\"Classifier Used:\", model_name)\n",
    "    print(f'Hamming loss: {hl:.4f}')\n",
    "    print(f'Accuracy score: {acc:.4f}')\n",
    "    print(f'Jaccard score: {score:.4f}')\n",
    "    print(\"\\n\")"
   ]
  },
  {
   "cell_type": "code",
   "execution_count": null,
   "metadata": {},
   "outputs": [],
   "source": [
    "def visualize_model(y_pred):\n",
    "    # Get all tags\n",
    "    tags = list(multilabel_binarizer.classes_)\n",
    "    \n",
    "    # Confusion matrix:\n",
    "    cm = multilabel_confusion_matrix(y_test, y_pred)[0]\n",
    "\n",
    "    # Plot confusion matrix:\n",
    "    plt.figure(figsize=(10, 8))\n",
    "    sns.heatmap(cm, annot=True, fmt=\"d\", cmap=\"coolwarm\", square=True)\n",
    "    plt.title(\"Confusion Matrix\")\n",
    "    plt.xlabel(\"Predicted Labels\")\n",
    "    plt.ylabel(\"Actual Labels\")\n",
    "    plt.show()"
   ]
  },
  {
   "cell_type": "code",
   "execution_count": null,
   "metadata": {},
   "outputs": [],
   "source": [
    "def visualize_model_full(y_pred):\n",
    "    # Get all tags\n",
    "    tags = list(multilabel_binarizer.classes_)\n",
    "    \n",
    "    # Get binary values, 0 or 1 from probabilities\n",
    "    y_pred_binary = np.round(y_pred)\n",
    "    \n",
    "    # Confusion Matrix\n",
    "    confusion_matrix = tf.math.confusion_matrix(labels = y_test.argmax(axis = 1), predictions = y_pred_binary.argmax(axis = 1)).numpy()\n",
    "    \n",
    "    confusion_matrix_normalized = confusion_matrix / confusion_matrix.sum(axis = 0)\n",
    "    \n",
    "    # Plot confusion matrix:\n",
    "    plt.figure(figsize=(100, 100))\n",
    "    sns.heatmap(confusion_matrix_normalized, annot=True, cmap=\"coolwarm\", square=True, xticklabels=tags, yticklabels=tags)\n",
    "    plt.title(\"Confusion Matrix\")\n",
    "    plt.xlabel(\"Predicted Labels\")\n",
    "    plt.ylabel(\"Actual Labels\")\n",
    "    plt.show()\n",
    "    \n",
    "    "
   ]
  },
  {
   "cell_type": "code",
   "execution_count": null,
   "metadata": {},
   "outputs": [],
   "source": [
    "def tag_heatmap(y_pred):\n",
    "    # Create a binary matrix indicating the presence or absence of each tag\n",
    "    pred_matrix = np.array(y_pred)\n",
    "    true_matrix = np.array(y_test)\n",
    "    \n",
    "    # Compute the confusion matrix between predicted and true labels\n",
    "    confusion_matrix = np.dot(pred_matrix.T, true_matrix)\n",
    "    \n",
    "    # Plot the heatmap\n",
    "    plt.figure(figsize=(10, 8))\n",
    "    sns.heatmap(confusion_matrix, annot=True, cmap='coolwarm')\n",
    "    plt.xlabel('True Labels')\n",
    "    plt.ylabel('Predicted Labels')\n",
    "    plt.title('Tag Heatmap')\n",
    "    plt.show()"
   ]
  },
  {
   "cell_type": "code",
   "execution_count": null,
   "metadata": {},
   "outputs": [
    {
     "name": "stdout",
     "output_type": "stream",
     "text": [
      "Classifier Used: SGDClassifier()\n",
      "Hamming loss: 0.0099\n",
      "Accuracy score: 0.3441\n",
      "Jaccard score: 0.4118\n",
      "\n",
      "\n"
     ]
    },
    {
     "data": {
      "image/png": "[encoded data removed]",
      "text/plain": [
       "<Figure size 720x576 with 2 Axes>"
      ]
     },
     "metadata": {
      "needs_background": "light"
     },
     "output_type": "display_data"
    },
    {
     "name": "stdout",
     "output_type": "stream",
     "text": [
      "Classifier Used: LinearSVC()\n",
      "Hamming loss: 0.0094\n",
      "Accuracy score: 0.3984\n",
      "Jaccard score: 0.4862\n",
      "\n",
      "\n"
     ]
    },
    {
     "data": {
      "image/png": "[encoded data removed]",
      "text/plain": [
       "<Figure size 720x576 with 2 Axes>"
      ]
     },
     "metadata": {
      "needs_background": "light"
     },
     "output_type": "display_data"
    },
    {
     "name": "stdout",
     "output_type": "stream",
     "text": [
      "Classifier Used: PassiveAggressiveClassifier()\n",
      "Hamming loss: 0.0104\n",
      "Accuracy score: 0.3791\n",
      "Jaccard score: 0.4735\n",
      "\n",
      "\n"
     ]
    },
    {
     "data": {
      "image/png": "[encoded data removed]",
      "text/plain": [
       "<Figure size 720x576 with 2 Axes>"
      ]
     },
     "metadata": {
      "needs_background": "light"
     },
     "output_type": "display_data"
    }
   ],
   "source": [
    "# Trying different classifications models:\n",
    "sgd = SGDClassifier()\n",
    "#lr = LogisticRegression()\n",
    "svc = LinearSVC()\n",
    "pac = PassiveAggressiveClassifier()\n",
    "\n",
    "for classifier in [ sgd, svc, pac]:\n",
    "    \n",
    "    clf = ClassifierChain(classifier)\n",
    "    clf.fit(X_train, y_train)\n",
    "    y_pred = clf.predict(X_test)\n",
    "    evaluate_model(y_pred, classifier)\n",
    "    visualize_model(y_pred)\n",
    "    \n",
    "     # Save using pickle\n",
    "    with open(\"model_\" + str(classifier) +\".pkl\", 'wb') as f:\n",
    "        pickle.dump(clf, f)"
   ]
  },
  {
   "cell_type": "code",
   "execution_count": null,
   "metadata": {},
   "outputs": [],
   "source": [
    "# Neural network classification model: (Takes too long and not good)\n",
    "# mlpc = MLPClassifier(max_iter=5000, solver=\"lbfgs\", learning_rate= \"adaptive\", hidden_layer_sizes=(100,100,100))\n",
    "# mlpc = MLPClassifier()\n",
    "# mlpc.fit(X_train, y_train)\n",
    "\n",
    "# y_pred = mlpc.predict(X_test)\n",
    "# evaluate_model(y_pred, \"mlp\")\n",
    "# visualize_model(y_pred)\n",
    "#  # Save using pickle\n",
    "# with open(\"model_\" + str(mlpc) +\".pkl\", 'wb') as f:\n",
    "#     pickle.dump(clf, f)"
   ]
  },
  {
   "cell_type": "code",
   "execution_count": null,
   "metadata": {},
   "outputs": [
    {
     "name": "stdout",
     "output_type": "stream",
     "text": [
      "[('html',)]\n"
     ]
    }
   ],
   "source": [
    "# A question to try the model on\n",
    "title = \"Tag for images\"\n",
    "body =  '''I was creating a photo gallery website, and I am fairly new to web developement, I was wondering how can I make an image in HTML?\n",
    "'''\n",
    "\n",
    "# Perform same pipeline\n",
    "title = nlp_pipeline(title)\n",
    "body = nlp_pipeline(body)\n",
    "\n",
    "# Same vectorizer\n",
    "X1_tfidf_trial = vectorizer_X1.transform([body])\n",
    "X2_tfidf_trial = vectorizer_X2.transform([title])\n",
    "\n",
    "# Combine X features\n",
    "X_tfidf_trial = hstack([X1_tfidf_trial, X2_tfidf_trial])\n",
    "\n",
    "# Use any model from the saved ones\n",
    "model = pickle.load(open('model_LinearSVC().pkl', 'rb'))\n",
    "\n",
    "# Get prediction (binary format)\n",
    "predicted_tags_bin = model.predict(X_tfidf_trial)\n",
    "\n",
    "# Get actual tags by reverse transforming\n",
    "predicted_tags = multilabel_binarizer.inverse_transform(predicted_tags_bin)\n",
    "print(predicted_tags)"
   ]
  }
 ],
 "metadata": {
  "kernelspec": {
   "display_name": "base",
   "language": "python",
   "name": "python3"
  },
  "language_info": {
   "codemirror_mode": {
    "name": "ipython",
    "version": 3
   },
   "file_extension": ".py",
   "mimetype": "text/x-python",
   "name": "python",
   "nbconvert_exporter": "python",
   "pygments_lexer": "ipython3",
   "version": "3.9.7"
  },
  "orig_nbformat": 4
 },
 "nbformat": 4,
 "nbformat_minor": 2
}
